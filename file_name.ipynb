{
 "cells": [
  {
   "cell_type": "code",
   "execution_count": 1,
   "metadata": {},
   "outputs": [],
   "source": [
    "import os"
   ]
  },
  {
   "cell_type": "code",
   "execution_count": 31,
   "metadata": {},
   "outputs": [],
   "source": [
    "#print every line in the file name fine_name.txt\n",
    "o = []\n",
    "with open('fine_name.txt', newline=\"\", ) as f:\n",
    "    for line in f:\n",
    "        o.append(line.strip())"
   ]
  },
  {
   "cell_type": "code",
   "execution_count": 32,
   "metadata": {},
   "outputs": [],
   "source": [
    "l1 = []\n",
    "l2 = []\n",
    "l3 = []\n",
    "for idx, line in enumerate(o):\n",
    "    if idx % 3 == 0:\n",
    "        l1.append(line)\n",
    "    elif idx % 2 == 0:\n",
    "        l3.append(line)\n",
    "    else:\n",
    "        l2.append(line)"
   ]
  },
  {
   "cell_type": "code",
   "execution_count": 33,
   "metadata": {},
   "outputs": [
    {
     "data": {
      "text/plain": [
       "['231006_S63_obj_16_grasp_27.zip',\n",
       " '231006_S63_obj_17_grasp_24.zip',\n",
       " '231006_S63_obj_18_grasp_9.zip',\n",
       " '231006_S63_obj_19_grasp_28.zip',\n",
       " '231006_S63_obj_20_grasp_22.zip',\n",
       " '231006_S63_obj_21_grasp_26.zip',\n",
       " '231006_S63_obj_22_grasp_5.zip',\n",
       " '231006_S63_obj_23_grasp_31.zip',\n",
       " '231006_S63_obj_24_grasp_31.zip',\n",
       " '231006_S63_obj_25_grasp_9.zip',\n",
       " '231006_S63_obj_26_grasp_4.zip',\n",
       " '231006_S63_obj_27_grasp_22.zip',\n",
       " '231006_S63_obj_28_grasp_19.zip',\n",
       " '231006_S63_obj_29_grasp_18.zip',\n",
       " '231006_S63_obj_30_grasp_28.zip']"
      ]
     },
     "execution_count": 33,
     "metadata": {},
     "output_type": "execute_result"
    }
   ],
   "source": [
    "l1"
   ]
  },
  {
   "cell_type": "code",
   "execution_count": 38,
   "metadata": {},
   "outputs": [],
   "source": [
    "strr = \"\"\n",
    "for l in l3:\n",
    "    strr += l + \" \""
   ]
  },
  {
   "cell_type": "code",
   "execution_count": 39,
   "metadata": {},
   "outputs": [
    {
     "data": {
      "text/plain": [
       "'231006_S63_obj_17_grasp_23.zip 231006_S63_obj_18_grasp_14.zip 231006_S63_obj_19_grasp_18.zip 231006_S63_obj_20_grasp_12.zip 231006_S63_obj_21_grasp_19.zip 231006_S63_obj_22_grasp_12.zip 231006_S63_obj_23_grasp_12.zip 231006_S63_obj_24_grasp_1.zip 231006_S63_obj_25_grasp_5.zip 231006_S63_obj_26_grasp_17.zip 231006_S63_obj_27_grasp_18.zip 231006_S63_obj_28_grasp_12.zip 231006_S63_obj_29_grasp_16.zip 231006_S63_obj_30_grasp_18.zip '"
      ]
     },
     "execution_count": 39,
     "metadata": {},
     "output_type": "execute_result"
    }
   ],
   "source": [
    "strr"
   ]
  },
  {
   "cell_type": "code",
   "execution_count": null,
   "metadata": {},
   "outputs": [],
   "source": []
  }
 ],
 "metadata": {
  "kernelspec": {
   "display_name": "oxr_dataset",
   "language": "python",
   "name": "python3"
  },
  "language_info": {
   "codemirror_mode": {
    "name": "ipython",
    "version": 3
   },
   "file_extension": ".py",
   "mimetype": "text/x-python",
   "name": "python",
   "nbconvert_exporter": "python",
   "pygments_lexer": "ipython3",
   "version": "3.9.16"
  }
 },
 "nbformat": 4,
 "nbformat_minor": 2
}
